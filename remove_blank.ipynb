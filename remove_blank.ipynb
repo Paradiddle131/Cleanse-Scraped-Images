{
 "cells": [
  {
   "cell_type": "code",
   "execution_count": 1,
   "metadata": {},
   "outputs": [],
   "source": [
    "import cv2\n",
    "import numpy as np\n",
    "import os"
   ]
  },
  {
   "cell_type": "markdown",
   "metadata": {},
   "source": [
    "## Remove empty files and files with wrong format"
   ]
  },
  {
   "cell_type": "code",
   "execution_count": 288,
   "metadata": {},
   "outputs": [
    {
     "name": "stdout",
     "output_type": "stream",
     "text": [
      "D:\\Python Projects\\Scrape_Google_Images\\google_scrape\\cigarettes\n",
      "Cleansing the folder: images_ch\n",
      "D:\\Python Projects\\Scrape_Google_Images\\google_scrape\\cigarettes\\images_ch\n",
      "Deleting 00000550.webp...\n",
      "D:\\Python Projects\\Scrape_Google_Images\\google_scrape\\cigarettes\n",
      "Cleansing the folder: images_en\n",
      "D:\\Python Projects\\Scrape_Google_Images\\google_scrape\\cigarettes\\images_en\n",
      "Deleting 00000020.php...\n",
      "D:\\Python Projects\\Scrape_Google_Images\\google_scrape\\cigarettes\n",
      "Cleansing the folder: images_ger\n",
      "D:\\Python Projects\\Scrape_Google_Images\\google_scrape\\cigarettes\\images_ger\n",
      "Deleting 00000642.webp...\n",
      "D:\\Python Projects\\Scrape_Google_Images\\google_scrape\\cigarettes\n",
      "Cleansing the folder: images_ita\n",
      "D:\\Python Projects\\Scrape_Google_Images\\google_scrape\\cigarettes\\images_ita\n",
      "Deleting 00000020.php...\n",
      "Deleting 00000110.ashx...\n",
      "Deleting 00000129.5...\n",
      "Deleting 00000412.axd...\n",
      "Deleting 00000453.cms...\n",
      "D:\\Python Projects\\Scrape_Google_Images\\google_scrape\\cigarettes\n",
      "Cleansing the folder: images_ko\n",
      "D:\\Python Projects\\Scrape_Google_Images\\google_scrape\\cigarettes\\images_ko\n",
      "Deleting 00000020.php...\n",
      "Deleting 00000110.ashx...\n",
      "Deleting 00000129.5...\n",
      "Deleting 00000412.axd...\n",
      "Deleting 00000453.cms...\n",
      "D:\\Python Projects\\Scrape_Google_Images\\google_scrape\\cigarettes\n",
      "Cleansing the folder: images_ru\n",
      "D:\\Python Projects\\Scrape_Google_Images\\google_scrape\\cigarettes\\images_ru\n",
      "Deleting 00000020.php...\n",
      "Deleting 00000110.ashx...\n",
      "Deleting 00000129.5...\n",
      "Deleting 00000412.axd...\n",
      "Deleting 00000453.cms...\n",
      "D:\\Python Projects\\Scrape_Google_Images\\google_scrape\\cigarettes\n",
      "Cleansing the folder: images_sp\n",
      "D:\\Python Projects\\Scrape_Google_Images\\google_scrape\\cigarettes\\images_sp\n",
      "Deleting 00000020.php...\n",
      "Deleting 00000110.ashx...\n",
      "Deleting 00000129.5...\n",
      "Deleting 00000412.axd...\n",
      "Deleting 00000453.cms...\n",
      "D:\\Python Projects\\Scrape_Google_Images\\google_scrape\\cigarettes\n"
     ]
    }
   ],
   "source": [
    "%cd D:\\Python Projects\\Scrape_Google_Images\\google_scrape\\cigarettes\n",
    "for folder in os.listdir():\n",
    "    if 'images_' in folder:\n",
    "        print(f'Cleansing the folder: {folder}')\n",
    "        %cd {folder}\n",
    "        for path in os.listdir():\n",
    "            img = cv2.imread(path)\n",
    "            if img is None or not any(f in path.lower() for f in ['jpg', 'jpeg', 'png']):\n",
    "                print(\"Deleting\", path+'...')\n",
    "                !del /f {path}\n",
    "        %cd .."
   ]
  }
 ],
 "metadata": {
  "kernelspec": {
   "display_name": "Python 3",
   "language": "python",
   "name": "python3"
  },
  "language_info": {
   "codemirror_mode": {
    "name": "ipython",
    "version": 3
   },
   "file_extension": ".py",
   "mimetype": "text/x-python",
   "name": "python",
   "nbconvert_exporter": "python",
   "pygments_lexer": "ipython3",
   "version": "3.7.3"
  }
 },
 "nbformat": 4,
 "nbformat_minor": 4
}
